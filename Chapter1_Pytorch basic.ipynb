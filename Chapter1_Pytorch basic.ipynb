{
  "nbformat": 4,
  "nbformat_minor": 0,
  "metadata": {
    "colab": {
      "name": "Chapter 1.ipynb",
      "provenance": [],
      "collapsed_sections": [],
      "authorship_tag": "ABX9TyPaurEVXLxnH3CJ0yMBjrUz",
      "include_colab_link": true
    },
    "kernelspec": {
      "name": "python3",
      "display_name": "Python 3"
    },
    "accelerator": "GPU"
  },
  "cells": [
    {
      "cell_type": "markdown",
      "metadata": {
        "id": "view-in-github",
        "colab_type": "text"
      },
      "source": [
        "<a href=\"https://colab.research.google.com/github/Shindora/NLP-with-PyTorch/blob/master/Chapter_1.ipynb\" target=\"_parent\"><img src=\"https://colab.research.google.com/assets/colab-badge.svg\" alt=\"Open In Colab\"/></a>"
      ]
    },
    {
      "cell_type": "markdown",
      "metadata": {
        "id": "bf_-PiLaWffJ",
        "colab_type": "text"
      },
      "source": [
        "**PyTorch basic**<br>\n"
      ]
    },
    {
      "cell_type": "code",
      "metadata": {
        "id": "_VEtUC_BWmcp",
        "colab_type": "code",
        "colab": {}
      },
      "source": [
        "def describe(x):\n",
        "  print('Type: {}'.format(x.type()))\n",
        "  print('Shape/Size: {}'.format(x.shape))\n",
        "  print('Values: \\n{}'.format(x))"
      ],
      "execution_count": 0,
      "outputs": []
    },
    {
      "cell_type": "code",
      "metadata": {
        "id": "zgRGqCBCW9tr",
        "colab_type": "code",
        "outputId": "afb7ca15-bc50-41d3-905f-61b30f14e707",
        "colab": {
          "base_uri": "https://localhost:8080/",
          "height": 101
        }
      },
      "source": [
        "import torch\n",
        "describe(torch.Tensor(2,3))"
      ],
      "execution_count": 0,
      "outputs": [
        {
          "output_type": "stream",
          "text": [
            "Type: torch.FloatTensor\n",
            "Shape/Size: torch.Size([2, 3])\n",
            "Values: \n",
            "tensor([[6.3088e-35, 0.0000e+00, 1.5695e-43],\n",
            "        [1.5554e-43, 1.5975e-43, 1.6255e-43]])\n"
          ],
          "name": "stdout"
        }
      ]
    },
    {
      "cell_type": "code",
      "metadata": {
        "id": "2PkE5Lu9XEzR",
        "colab_type": "code",
        "outputId": "061a58e1-0ec3-4da7-bd97-6d9cb88ef7bd",
        "colab": {
          "base_uri": "https://localhost:8080/",
          "height": 185
        }
      },
      "source": [
        "describe(torch.rand(2,3))\n",
        "describe(torch.rand(2,3))"
      ],
      "execution_count": 0,
      "outputs": [
        {
          "output_type": "stream",
          "text": [
            "Type: torch.FloatTensor\n",
            "Shape/Size: torch.Size([2, 3])\n",
            "Values: \n",
            "tensor([[0.4737, 0.5769, 0.1901],\n",
            "        [0.3811, 0.6308, 0.2481]])\n",
            "Type: torch.FloatTensor\n",
            "Shape/Size: torch.Size([2, 3])\n",
            "Values: \n",
            "tensor([[0.2954, 0.1330, 0.6195],\n",
            "        [0.9833, 0.1581, 0.8410]])\n"
          ],
          "name": "stdout"
        }
      ]
    },
    {
      "cell_type": "markdown",
      "metadata": {
        "id": "g2FVPyGBasS2",
        "colab_type": "text"
      },
      "source": [
        "We can also create tensors all filled with the same scalar. For creating a tensor of zeros or ones, we\n",
        "have built­in functions, and for filling it with specific values, we can use the fill_() method. Any\n",
        "PyTorch method with an underscore (_) refers to an in­place operation"
      ]
    },
    {
      "cell_type": "code",
      "metadata": {
        "id": "XdrFeNC-XaTT",
        "colab_type": "code",
        "outputId": "ab943e32-8f63-4bab-c271-23c4fc872e98",
        "colab": {
          "base_uri": "https://localhost:8080/",
          "height": 269
        }
      },
      "source": [
        "describe(torch.zeros(2,3))\n",
        "x=torch.ones(2,3)\n",
        "describe(x)\n",
        "x.fill_(5)\n",
        "describe(x)"
      ],
      "execution_count": 0,
      "outputs": [
        {
          "output_type": "stream",
          "text": [
            "Type: torch.FloatTensor\n",
            "Shape/Size: torch.Size([2, 3])\n",
            "Values: \n",
            "tensor([[0., 0., 0.],\n",
            "        [0., 0., 0.]])\n",
            "Type: torch.FloatTensor\n",
            "Shape/Size: torch.Size([2, 3])\n",
            "Values: \n",
            "tensor([[1., 1., 1.],\n",
            "        [1., 1., 1.]])\n",
            "Type: torch.FloatTensor\n",
            "Shape/Size: torch.Size([2, 3])\n",
            "Values: \n",
            "tensor([[5., 5., 5.],\n",
            "        [5., 5., 5.]])\n"
          ],
          "name": "stdout"
        }
      ]
    },
    {
      "cell_type": "code",
      "metadata": {
        "id": "xhdvSZ0ZahZJ",
        "colab_type": "code",
        "outputId": "c5e54b21-94bb-40e9-970d-3fff5e97c0b9",
        "colab": {
          "base_uri": "https://localhost:8080/",
          "height": 101
        }
      },
      "source": [
        "x=torch.Tensor([[1,2,3],\n",
        "         [4,5,6]])\n",
        "describe(x)"
      ],
      "execution_count": 0,
      "outputs": [
        {
          "output_type": "stream",
          "text": [
            "Type: torch.FloatTensor\n",
            "Shape/Size: torch.Size([2, 3])\n",
            "Values: \n",
            "tensor([[1., 2., 3.],\n",
            "        [4., 5., 6.]])\n"
          ],
          "name": "stdout"
        }
      ]
    },
    {
      "cell_type": "markdown",
      "metadata": {
        "id": "GfDCIFnqbJmF",
        "colab_type": "text"
      },
      "source": [
        "From Numpy to Torch"
      ]
    },
    {
      "cell_type": "code",
      "metadata": {
        "id": "10FazuiCa8gC",
        "colab_type": "code",
        "outputId": "599dcf88-a1d2-42cd-f06c-06d9666124b1",
        "colab": {
          "base_uri": "https://localhost:8080/",
          "height": 101
        }
      },
      "source": [
        "import numpy as np\n",
        "npy=np.random.rand(2,3)\n",
        "describe(torch.from_numpy(npy))"
      ],
      "execution_count": 0,
      "outputs": [
        {
          "output_type": "stream",
          "text": [
            "Type: torch.DoubleTensor\n",
            "Shape/Size: torch.Size([2, 3])\n",
            "Values: \n",
            "tensor([[0.4414, 0.7820, 0.8833],\n",
            "        [0.0443, 0.5173, 0.3456]], dtype=torch.float64)\n"
          ],
          "name": "stdout"
        }
      ]
    },
    {
      "cell_type": "markdown",
      "metadata": {
        "id": "V0spVoyjbnR3",
        "colab_type": "text"
      },
      "source": [
        "Tensor Types and Size"
      ]
    },
    {
      "cell_type": "code",
      "metadata": {
        "id": "in7hPOFwbT9a",
        "colab_type": "code",
        "outputId": "7b50bea2-ef18-4693-bd5f-bdff381990fc",
        "colab": {
          "base_uri": "https://localhost:8080/",
          "height": 101
        }
      },
      "source": [
        "x=torch.FloatTensor([[1,2,3],[4,5,6]])\n",
        "describe(x)"
      ],
      "execution_count": 0,
      "outputs": [
        {
          "output_type": "stream",
          "text": [
            "Type: torch.FloatTensor\n",
            "Shape/Size: torch.Size([2, 3])\n",
            "Values: \n",
            "tensor([[1., 2., 3.],\n",
            "        [4., 5., 6.]])\n"
          ],
          "name": "stdout"
        }
      ]
    },
    {
      "cell_type": "code",
      "metadata": {
        "id": "mYMRnVTsbwES",
        "colab_type": "code",
        "outputId": "88de18d5-b166-4ffc-85a3-f7484a620be6",
        "colab": {
          "base_uri": "https://localhost:8080/",
          "height": 101
        }
      },
      "source": [
        "x=x.long()\n",
        "describe(x)"
      ],
      "execution_count": 0,
      "outputs": [
        {
          "output_type": "stream",
          "text": [
            "Type: torch.LongTensor\n",
            "Shape/Size: torch.Size([2, 3])\n",
            "Values: \n",
            "tensor([[1, 2, 3],\n",
            "        [4, 5, 6]])\n"
          ],
          "name": "stdout"
        }
      ]
    },
    {
      "cell_type": "markdown",
      "metadata": {
        "id": "baV8SRo-cBE_",
        "colab_type": "text"
      },
      "source": [
        "Tensor Operations"
      ]
    },
    {
      "cell_type": "code",
      "metadata": {
        "id": "o8trq7qSb5g6",
        "colab_type": "code",
        "outputId": "a05a4985-ca66-4a67-dc84-5ed2b1b85f4a",
        "colab": {
          "base_uri": "https://localhost:8080/",
          "height": 101
        }
      },
      "source": [
        "x=torch.randn(2,3)\n",
        "describe(x)"
      ],
      "execution_count": 0,
      "outputs": [
        {
          "output_type": "stream",
          "text": [
            "Type: torch.FloatTensor\n",
            "Shape/Size: torch.Size([2, 3])\n",
            "Values: \n",
            "tensor([[ 0.6917, -1.0968, -0.0889],\n",
            "        [-0.6318,  1.3909, -0.1471]])\n"
          ],
          "name": "stdout"
        }
      ]
    },
    {
      "cell_type": "code",
      "metadata": {
        "id": "2T0SFqpTcH2m",
        "colab_type": "code",
        "outputId": "f995563f-09aa-4d44-8984-873a115dd48d",
        "colab": {
          "base_uri": "https://localhost:8080/",
          "height": 185
        }
      },
      "source": [
        "describe(torch.add(x,x))\n",
        "describe(x+x)"
      ],
      "execution_count": 0,
      "outputs": [
        {
          "output_type": "stream",
          "text": [
            "Type: torch.FloatTensor\n",
            "Shape/Size: torch.Size([2, 3])\n",
            "Values: \n",
            "tensor([[ 1.3833, -2.1936, -0.1777],\n",
            "        [-1.2637,  2.7817, -0.2943]])\n",
            "Type: torch.FloatTensor\n",
            "Shape/Size: torch.Size([2, 3])\n",
            "Values: \n",
            "tensor([[ 1.3833, -2.1936, -0.1777],\n",
            "        [-1.2637,  2.7817, -0.2943]])\n"
          ],
          "name": "stdout"
        }
      ]
    },
    {
      "cell_type": "code",
      "metadata": {
        "id": "jvbp5bxJcSDO",
        "colab_type": "code",
        "outputId": "6bdbb955-30c0-4200-bc03-929a2fe5629f",
        "colab": {
          "base_uri": "https://localhost:8080/",
          "height": 84
        }
      },
      "source": [
        "x=torch.arange(6)\n",
        "describe(x)"
      ],
      "execution_count": 0,
      "outputs": [
        {
          "output_type": "stream",
          "text": [
            "Type: torch.LongTensor\n",
            "Shape/Size: torch.Size([6])\n",
            "Values: \n",
            "tensor([0, 1, 2, 3, 4, 5])\n"
          ],
          "name": "stdout"
        }
      ]
    },
    {
      "cell_type": "code",
      "metadata": {
        "id": "jaLvNEm4chze",
        "colab_type": "code",
        "outputId": "d2caba62-04d9-48cc-a0b2-7a8321789aa6",
        "colab": {
          "base_uri": "https://localhost:8080/",
          "height": 118
        }
      },
      "source": [
        "x=x.view(3,2)\n",
        "describe(x)"
      ],
      "execution_count": 0,
      "outputs": [
        {
          "output_type": "stream",
          "text": [
            "Type: torch.LongTensor\n",
            "Shape/Size: torch.Size([3, 2])\n",
            "Values: \n",
            "tensor([[0, 1],\n",
            "        [2, 3],\n",
            "        [4, 5]])\n"
          ],
          "name": "stdout"
        }
      ]
    },
    {
      "cell_type": "code",
      "metadata": {
        "id": "NFDXi3x8coMi",
        "colab_type": "code",
        "outputId": "eff5c013-9e1d-4bf5-8b62-46f8847d6881",
        "colab": {
          "base_uri": "https://localhost:8080/",
          "height": 151
        }
      },
      "source": [
        "describe(torch.sum(x,dim=0))\n",
        "describe(torch.sum(x,dim=1))"
      ],
      "execution_count": 0,
      "outputs": [
        {
          "output_type": "stream",
          "text": [
            "Type: torch.LongTensor\n",
            "Shape/Size: torch.Size([2])\n",
            "Values: \n",
            "tensor([6, 9])\n",
            "Type: torch.LongTensor\n",
            "Shape/Size: torch.Size([3])\n",
            "Values: \n",
            "tensor([1, 5, 9])\n"
          ],
          "name": "stdout"
        }
      ]
    },
    {
      "cell_type": "code",
      "metadata": {
        "id": "GTp2x4wfczHt",
        "colab_type": "code",
        "outputId": "b71079bb-ed95-4de6-c938-4208f542119e",
        "colab": {
          "base_uri": "https://localhost:8080/",
          "height": 101
        }
      },
      "source": [
        "describe(torch.transpose(x,1,0))"
      ],
      "execution_count": 0,
      "outputs": [
        {
          "output_type": "stream",
          "text": [
            "Type: torch.LongTensor\n",
            "Shape/Size: torch.Size([2, 3])\n",
            "Values: \n",
            "tensor([[0, 2, 4],\n",
            "        [1, 3, 5]])\n"
          ],
          "name": "stdout"
        }
      ]
    },
    {
      "cell_type": "code",
      "metadata": {
        "id": "4zVOswwLdFGu",
        "colab_type": "code",
        "outputId": "ef6d5ce6-cdbe-47b7-b30f-b882bf0fb32c",
        "colab": {
          "base_uri": "https://localhost:8080/",
          "height": 101
        }
      },
      "source": [
        "describe(torch.transpose(x,0,1))"
      ],
      "execution_count": 0,
      "outputs": [
        {
          "output_type": "stream",
          "text": [
            "Type: torch.LongTensor\n",
            "Shape/Size: torch.Size([2, 3])\n",
            "Values: \n",
            "tensor([[0, 2, 4],\n",
            "        [1, 3, 5]])\n"
          ],
          "name": "stdout"
        }
      ]
    },
    {
      "cell_type": "markdown",
      "metadata": {
        "id": "IerAQvj_dere",
        "colab_type": "text"
      },
      "source": [
        "Index, Slicing, Joining"
      ]
    },
    {
      "cell_type": "code",
      "metadata": {
        "id": "WCKdaF0ZdOhi",
        "colab_type": "code",
        "outputId": "cf4bdc81-fdc9-4ce5-c520-5346b99d7a1c",
        "colab": {
          "base_uri": "https://localhost:8080/",
          "height": 101
        }
      },
      "source": [
        "x=torch.arange(6).view(2,3)\n",
        "describe(x)"
      ],
      "execution_count": 0,
      "outputs": [
        {
          "output_type": "stream",
          "text": [
            "Type: torch.LongTensor\n",
            "Shape/Size: torch.Size([2, 3])\n",
            "Values: \n",
            "tensor([[0, 1, 2],\n",
            "        [3, 4, 5]])\n"
          ],
          "name": "stdout"
        }
      ]
    },
    {
      "cell_type": "code",
      "metadata": {
        "id": "fvvm369KdmG-",
        "colab_type": "code",
        "outputId": "fab40976-a336-4c8e-92ed-cdffce3b0ed1",
        "colab": {
          "base_uri": "https://localhost:8080/",
          "height": 84
        }
      },
      "source": [
        "describe(x[:1,:2])"
      ],
      "execution_count": 0,
      "outputs": [
        {
          "output_type": "stream",
          "text": [
            "Type: torch.LongTensor\n",
            "Shape/Size: torch.Size([1, 2])\n",
            "Values: \n",
            "tensor([[0, 1]])\n"
          ],
          "name": "stdout"
        }
      ]
    },
    {
      "cell_type": "code",
      "metadata": {
        "id": "mX7Im9UZduNS",
        "colab_type": "code",
        "outputId": "43c3b442-2100-4360-e4ab-27e926050677",
        "colab": {
          "base_uri": "https://localhost:8080/",
          "height": 84
        }
      },
      "source": [
        "describe(x[0,1])"
      ],
      "execution_count": 0,
      "outputs": [
        {
          "output_type": "stream",
          "text": [
            "Type: torch.LongTensor\n",
            "Shape/Size: torch.Size([])\n",
            "Values: \n",
            "1\n"
          ],
          "name": "stdout"
        }
      ]
    },
    {
      "cell_type": "code",
      "metadata": {
        "id": "HDizX207d2T-",
        "colab_type": "code",
        "outputId": "c9db1172-e7f0-4957-abae-edb4109942c6",
        "colab": {
          "base_uri": "https://localhost:8080/",
          "height": 134
        }
      },
      "source": [
        "describe(torch.cat([x,x],dim=0))"
      ],
      "execution_count": 0,
      "outputs": [
        {
          "output_type": "stream",
          "text": [
            "Type: torch.LongTensor\n",
            "Shape/Size: torch.Size([4, 3])\n",
            "Values: \n",
            "tensor([[0, 1, 2],\n",
            "        [3, 4, 5],\n",
            "        [0, 1, 2],\n",
            "        [3, 4, 5]])\n"
          ],
          "name": "stdout"
        }
      ]
    },
    {
      "cell_type": "code",
      "metadata": {
        "id": "PvPDM6TxeFNK",
        "colab_type": "code",
        "outputId": "ff38ba90-24b0-4f3c-ab40-77af6daaf11f",
        "colab": {
          "base_uri": "https://localhost:8080/",
          "height": 101
        }
      },
      "source": [
        "describe(torch.cat([x,x],dim=1))"
      ],
      "execution_count": 0,
      "outputs": [
        {
          "output_type": "stream",
          "text": [
            "Type: torch.LongTensor\n",
            "Shape/Size: torch.Size([2, 6])\n",
            "Values: \n",
            "tensor([[0, 1, 2, 0, 1, 2],\n",
            "        [3, 4, 5, 3, 4, 5]])\n"
          ],
          "name": "stdout"
        }
      ]
    },
    {
      "cell_type": "code",
      "metadata": {
        "id": "4MM_ke2peKep",
        "colab_type": "code",
        "outputId": "a55e229c-2f6a-40ab-8dcc-14a06ff28625",
        "colab": {
          "base_uri": "https://localhost:8080/",
          "height": 151
        }
      },
      "source": [
        "describe(torch.stack([x,x]))"
      ],
      "execution_count": 0,
      "outputs": [
        {
          "output_type": "stream",
          "text": [
            "Type: torch.LongTensor\n",
            "Shape/Size: torch.Size([2, 2, 3])\n",
            "Values: \n",
            "tensor([[[0, 1, 2],\n",
            "         [3, 4, 5]],\n",
            "\n",
            "        [[0, 1, 2],\n",
            "         [3, 4, 5]]])\n"
          ],
          "name": "stdout"
        }
      ]
    },
    {
      "cell_type": "code",
      "metadata": {
        "id": "hT_aOvxDeX_a",
        "colab_type": "code",
        "outputId": "246468d8-4015-487a-8670-c3986fe0d040",
        "colab": {
          "base_uri": "https://localhost:8080/",
          "height": 101
        }
      },
      "source": [
        "x2=torch.arange(6).view(2,3)\n",
        "x2[:,1]+=1\n",
        "describe(x2)"
      ],
      "execution_count": 0,
      "outputs": [
        {
          "output_type": "stream",
          "text": [
            "Type: torch.LongTensor\n",
            "Shape/Size: torch.Size([2, 3])\n",
            "Values: \n",
            "tensor([[0, 2, 2],\n",
            "        [3, 5, 5]])\n"
          ],
          "name": "stdout"
        }
      ]
    },
    {
      "cell_type": "code",
      "metadata": {
        "id": "jtGmPNrzenIh",
        "colab_type": "code",
        "outputId": "103f8696-eee7-4a7b-fadd-191e2d2a9d21",
        "colab": {
          "base_uri": "https://localhost:8080/",
          "height": 118
        }
      },
      "source": [
        "x1=torch.arange(6).view(3,2)\n",
        "describe(torch.mm(x1,x2))"
      ],
      "execution_count": 0,
      "outputs": [
        {
          "output_type": "stream",
          "text": [
            "Type: torch.LongTensor\n",
            "Shape/Size: torch.Size([3, 3])\n",
            "Values: \n",
            "tensor([[ 3,  5,  5],\n",
            "        [ 9, 19, 19],\n",
            "        [15, 33, 33]])\n"
          ],
          "name": "stdout"
        }
      ]
    },
    {
      "cell_type": "code",
      "metadata": {
        "id": "QpwGjp2Nexai",
        "colab_type": "code",
        "outputId": "8a188219-d8d2-4249-a7e3-81b5517444cd",
        "colab": {
          "base_uri": "https://localhost:8080/",
          "height": 118
        }
      },
      "source": [
        "describe(x1@x2)"
      ],
      "execution_count": 0,
      "outputs": [
        {
          "output_type": "stream",
          "text": [
            "Type: torch.LongTensor\n",
            "Shape/Size: torch.Size([3, 3])\n",
            "Values: \n",
            "tensor([[ 3,  5,  5],\n",
            "        [ 9, 19, 19],\n",
            "        [15, 33, 33]])\n"
          ],
          "name": "stdout"
        }
      ]
    },
    {
      "cell_type": "markdown",
      "metadata": {
        "id": "v3xv-lv-gHgz",
        "colab_type": "text"
      },
      "source": [
        "**CUDA**"
      ]
    },
    {
      "cell_type": "code",
      "metadata": {
        "id": "sgw5TZ1ifVv8",
        "colab_type": "code",
        "outputId": "89b05085-d98d-4a93-f739-18a85387a8d6",
        "colab": {
          "base_uri": "https://localhost:8080/",
          "height": 34
        }
      },
      "source": [
        "print(torch.cuda.is_available())"
      ],
      "execution_count": 0,
      "outputs": [
        {
          "output_type": "stream",
          "text": [
            "True\n"
          ],
          "name": "stdout"
        }
      ]
    },
    {
      "cell_type": "code",
      "metadata": {
        "id": "TN_J7cviffMC",
        "colab_type": "code",
        "outputId": "af06d2a2-1d02-4ee2-e58c-1a0e16f9412f",
        "colab": {
          "base_uri": "https://localhost:8080/",
          "height": 34
        }
      },
      "source": [
        "# preferred method: device agnostic tensor instantiation\n",
        "device = torch.device(\"cuda\" if torch.cuda.is_available() else \"cpu\")\n",
        "print (device)"
      ],
      "execution_count": 0,
      "outputs": [
        {
          "output_type": "stream",
          "text": [
            "cuda\n"
          ],
          "name": "stdout"
        }
      ]
    },
    {
      "cell_type": "code",
      "metadata": {
        "id": "bbJEsP9rf4zs",
        "colab_type": "code",
        "outputId": "63ccfba6-7aeb-4f88-dfa2-2a607d53ac8d",
        "colab": {
          "base_uri": "https://localhost:8080/",
          "height": 118
        }
      },
      "source": [
        "x = torch.rand(3, 3).to(device)\n",
        "describe(x)"
      ],
      "execution_count": 0,
      "outputs": [
        {
          "output_type": "stream",
          "text": [
            "Type: torch.cuda.FloatTensor\n",
            "Shape/Size: torch.Size([3, 3])\n",
            "Values: \n",
            "tensor([[8.5626e-01, 4.3414e-01, 8.6873e-01],\n",
            "        [9.3752e-01, 5.4475e-01, 4.6378e-01],\n",
            "        [1.4004e-01, 2.5790e-01, 7.1520e-04]], device='cuda:0')\n"
          ],
          "name": "stdout"
        }
      ]
    },
    {
      "cell_type": "code",
      "metadata": {
        "id": "qh56HT7Jf9OC",
        "colab_type": "code",
        "outputId": "e37b2798-2222-4955-deda-af8cb1745585",
        "colab": {
          "base_uri": "https://localhost:8080/",
          "height": 178
        }
      },
      "source": [
        "y=torch.rand(3,3)\n",
        "x+y"
      ],
      "execution_count": 0,
      "outputs": [
        {
          "output_type": "error",
          "ename": "RuntimeError",
          "evalue": "ignored",
          "traceback": [
            "\u001b[0;31m---------------------------------------------------------------------------\u001b[0m",
            "\u001b[0;31mRuntimeError\u001b[0m                              Traceback (most recent call last)",
            "\u001b[0;32m<ipython-input-62-c65edc13fc03>\u001b[0m in \u001b[0;36m<module>\u001b[0;34m()\u001b[0m\n\u001b[1;32m      1\u001b[0m \u001b[0my\u001b[0m\u001b[0;34m=\u001b[0m\u001b[0mtorch\u001b[0m\u001b[0;34m.\u001b[0m\u001b[0mrand\u001b[0m\u001b[0;34m(\u001b[0m\u001b[0;36m3\u001b[0m\u001b[0;34m,\u001b[0m\u001b[0;36m3\u001b[0m\u001b[0;34m)\u001b[0m\u001b[0;34m\u001b[0m\u001b[0;34m\u001b[0m\u001b[0m\n\u001b[0;32m----> 2\u001b[0;31m \u001b[0mx\u001b[0m\u001b[0;34m+\u001b[0m\u001b[0my\u001b[0m\u001b[0;34m\u001b[0m\u001b[0;34m\u001b[0m\u001b[0m\n\u001b[0m",
            "\u001b[0;31mRuntimeError\u001b[0m: expected device cuda:0 but got device cpu"
          ]
        }
      ]
    },
    {
      "cell_type": "code",
      "metadata": {
        "id": "MggzSYo4gUY9",
        "colab_type": "code",
        "outputId": "1f078c07-1bdf-4343-f62e-cba82dfba153",
        "colab": {
          "base_uri": "https://localhost:8080/",
          "height": 67
        }
      },
      "source": [
        "cpu_device=torch.device(\"cpu\")\n",
        "y=y.to(cpu_device)\n",
        "x=x.to(cpu_device)\n",
        "x+y"
      ],
      "execution_count": 0,
      "outputs": [
        {
          "output_type": "execute_result",
          "data": {
            "text/plain": [
              "tensor([[1.2940, 1.0368, 1.8420],\n",
              "        [1.5547, 0.5777, 0.7419],\n",
              "        [1.0198, 0.8726, 0.6602]])"
            ]
          },
          "metadata": {
            "tags": []
          },
          "execution_count": 63
        }
      ]
    },
    {
      "cell_type": "markdown",
      "metadata": {
        "id": "jOMetpOqhI_K",
        "colab_type": "text"
      },
      "source": [
        "**Exercises**"
      ]
    },
    {
      "cell_type": "markdown",
      "metadata": {
        "id": "uBUmrWaLhMs9",
        "colab_type": "text"
      },
      "source": [
        "1. Create a 2d tensor and then add a dimension of size 1 inserted at dimension 0"
      ]
    },
    {
      "cell_type": "code",
      "metadata": {
        "id": "iDBoujswhvAn",
        "colab_type": "code",
        "outputId": "4f67e6cd-f7b5-45d8-ebea-b73d826ec498",
        "colab": {
          "base_uri": "https://localhost:8080/",
          "height": 218
        }
      },
      "source": [
        "a = torch.rand(3, 3)\n",
        "describe(a)\n",
        "a.unsqueeze(0)\n",
        "describe(a)"
      ],
      "execution_count": 0,
      "outputs": [
        {
          "output_type": "stream",
          "text": [
            "Type: torch.FloatTensor\n",
            "Shape/Size: torch.Size([3, 3])\n",
            "Values: \n",
            "tensor([[0.5519, 0.8007, 0.3941],\n",
            "        [0.3732, 0.9606, 0.7589],\n",
            "        [0.0386, 0.9303, 0.2351]])\n",
            "Type: torch.FloatTensor\n",
            "Shape/Size: torch.Size([3, 3])\n",
            "Values: \n",
            "tensor([[0.5519, 0.8007, 0.3941],\n",
            "        [0.3732, 0.9606, 0.7589],\n",
            "        [0.0386, 0.9303, 0.2351]])\n"
          ],
          "name": "stdout"
        }
      ]
    },
    {
      "cell_type": "markdown",
      "metadata": {
        "id": "XjiRpPyfjlrp",
        "colab_type": "text"
      },
      "source": [
        "2. Remove the extra dimension you just added to the previous tensor."
      ]
    },
    {
      "cell_type": "code",
      "metadata": {
        "id": "nwjzXWZKiFcG",
        "colab_type": "code",
        "outputId": "1c7125be-e981-47a9-84dc-9b7065151239",
        "colab": {
          "base_uri": "https://localhost:8080/",
          "height": 118
        }
      },
      "source": [
        "describe(a.squeeze(0))"
      ],
      "execution_count": 0,
      "outputs": [
        {
          "output_type": "stream",
          "text": [
            "Type: torch.FloatTensor\n",
            "Shape/Size: torch.Size([3, 3])\n",
            "Values: \n",
            "tensor([[0.5519, 0.8007, 0.3941],\n",
            "        [0.3732, 0.9606, 0.7589],\n",
            "        [0.0386, 0.9303, 0.2351]])\n"
          ],
          "name": "stdout"
        }
      ]
    },
    {
      "cell_type": "markdown",
      "metadata": {
        "id": "Xiusd9CzkBA0",
        "colab_type": "text"
      },
      "source": [
        "3. Create a random tensor of shape 5x3 in the interval [3, 7)"
      ]
    },
    {
      "cell_type": "code",
      "metadata": {
        "id": "osH87--Qj2gK",
        "colab_type": "code",
        "outputId": "e9176fcd-5e85-4ebd-d929-817490d7ec74",
        "colab": {
          "base_uri": "https://localhost:8080/",
          "height": 151
        }
      },
      "source": [
        "x=3+torch.rand(5,3)*(7-3)\n",
        "describe(x)"
      ],
      "execution_count": 0,
      "outputs": [
        {
          "output_type": "stream",
          "text": [
            "Type: torch.FloatTensor\n",
            "Shape/Size: torch.Size([5, 3])\n",
            "Values: \n",
            "tensor([[6.0520, 4.1812, 4.5421],\n",
            "        [3.9850, 3.5141, 5.1405],\n",
            "        [4.0205, 4.9051, 5.2141],\n",
            "        [5.2217, 4.4695, 5.9333],\n",
            "        [4.9425, 3.5723, 3.7571]])\n"
          ],
          "name": "stdout"
        }
      ]
    },
    {
      "cell_type": "markdown",
      "metadata": {
        "id": "KtMenBlHmpUu",
        "colab_type": "text"
      },
      "source": [
        "4. Create a tensor with values from a normal distribution (mean=0, std=1)"
      ]
    },
    {
      "cell_type": "code",
      "metadata": {
        "id": "FCPsCjLVkc95",
        "colab_type": "code",
        "outputId": "ae556ca3-8686-4897-b120-31a662246374",
        "colab": {
          "base_uri": "https://localhost:8080/",
          "height": 101
        }
      },
      "source": [
        "x=torch.Tensor(2,3)\n",
        "describe(x.normal_())"
      ],
      "execution_count": 0,
      "outputs": [
        {
          "output_type": "stream",
          "text": [
            "Type: torch.FloatTensor\n",
            "Shape/Size: torch.Size([2, 3])\n",
            "Values: \n",
            "tensor([[ 0.4685,  0.1592,  1.0724],\n",
            "        [ 0.2237,  0.7683, -0.0731]])\n"
          ],
          "name": "stdout"
        }
      ]
    },
    {
      "cell_type": "code",
      "metadata": {
        "id": "TtBgHx-7muxh",
        "colab_type": "code",
        "outputId": "8be2f277-1530-4396-b54f-7f1914c8ab3a",
        "colab": {
          "base_uri": "https://localhost:8080/",
          "height": 101
        }
      },
      "source": [
        "describe(torch.randn(2,3))"
      ],
      "execution_count": 0,
      "outputs": [
        {
          "output_type": "stream",
          "text": [
            "Type: torch.FloatTensor\n",
            "Shape/Size: torch.Size([2, 3])\n",
            "Values: \n",
            "tensor([[-0.6718, -1.0929, -0.2001],\n",
            "        [-0.6578, -0.1122, -0.1570]])\n"
          ],
          "name": "stdout"
        }
      ]
    },
    {
      "cell_type": "markdown",
      "metadata": {
        "id": "dogzguAgnGy0",
        "colab_type": "text"
      },
      "source": [
        "5. Retrieve the indexes of all the nonzero elements in the tensor torch.Tensor([1, 1, 1,\n",
        "0, 1])"
      ]
    },
    {
      "cell_type": "code",
      "metadata": {
        "id": "sGPJcYhZm8W1",
        "colab_type": "code",
        "outputId": "3464d7d2-e52a-4c97-b3b2-4d78ded46969",
        "colab": {
          "base_uri": "https://localhost:8080/",
          "height": 84
        }
      },
      "source": [
        "a=torch.tensor([1,1,1,0,1])\n",
        "torch.nonzero(a)"
      ],
      "execution_count": 0,
      "outputs": [
        {
          "output_type": "execute_result",
          "data": {
            "text/plain": [
              "tensor([[0],\n",
              "        [1],\n",
              "        [2],\n",
              "        [4]])"
            ]
          },
          "metadata": {
            "tags": []
          },
          "execution_count": 88
        }
      ]
    },
    {
      "cell_type": "markdown",
      "metadata": {
        "id": "4_YJnC2QoboJ",
        "colab_type": "text"
      },
      "source": [
        "6. Create a random tensor of size (3,1) and then horizontally stack four copies together"
      ]
    },
    {
      "cell_type": "code",
      "metadata": {
        "id": "yymNjwX-od67",
        "colab_type": "code",
        "outputId": "e5d1baf9-429b-4f01-913e-3f9a2869d7d6",
        "colab": {
          "base_uri": "https://localhost:8080/",
          "height": 84
        }
      },
      "source": [
        "a=np.array([[1,2,3]])\n",
        "a=np.hstack((a,a,a,a))\n",
        "describe(torch.from_numpy(a))"
      ],
      "execution_count": 0,
      "outputs": [
        {
          "output_type": "stream",
          "text": [
            "Type: torch.LongTensor\n",
            "Shape/Size: torch.Size([1, 12])\n",
            "Values: \n",
            "tensor([[1, 2, 3, 1, 2, 3, 1, 2, 3, 1, 2, 3]])\n"
          ],
          "name": "stdout"
        }
      ]
    },
    {
      "cell_type": "markdown",
      "metadata": {
        "id": "zjbFBQbcoUxE",
        "colab_type": "text"
      },
      "source": [
        "7. Return the batch matrix­matrix product of two three­dimensional matrices\n",
        "(a=torch.rand(3,4,5), b=torch.rand(3,5,4))."
      ]
    },
    {
      "cell_type": "code",
      "metadata": {
        "id": "ZdYl1oocnfrt",
        "colab_type": "code",
        "outputId": "334fe77f-d47b-4c9b-e8c4-a6975bde1f88",
        "colab": {
          "base_uri": "https://localhost:8080/",
          "height": 588
        }
      },
      "source": [
        "a=torch.rand(3,4,5)\n",
        "b=torch.rand(3,5,4)\n",
        "describe(a@b)\n",
        "describe(torch.bmm(a,b))"
      ],
      "execution_count": 0,
      "outputs": [
        {
          "output_type": "stream",
          "text": [
            "Type: torch.FloatTensor\n",
            "Shape/Size: torch.Size([3, 4, 4])\n",
            "Values: \n",
            "tensor([[[0.5229, 0.9157, 0.4344, 0.6779],\n",
            "         [1.1079, 1.2795, 0.5759, 0.9853],\n",
            "         [0.8630, 1.3937, 0.5615, 0.9071],\n",
            "         [0.9174, 2.2224, 1.0464, 1.7242]],\n",
            "\n",
            "        [[1.3841, 0.7388, 1.2408, 1.0863],\n",
            "         [0.7155, 0.7057, 0.9249, 0.8563],\n",
            "         [1.2220, 0.8343, 1.2222, 1.0115],\n",
            "         [1.3040, 0.8404, 1.1953, 1.0204]],\n",
            "\n",
            "        [[0.9824, 0.5057, 0.5347, 0.4605],\n",
            "         [1.3516, 0.9414, 0.6674, 0.7247],\n",
            "         [2.1070, 1.2264, 1.4220, 0.9821],\n",
            "         [2.1738, 1.0348, 1.9512, 1.2613]]])\n",
            "Type: torch.FloatTensor\n",
            "Shape/Size: torch.Size([3, 4, 4])\n",
            "Values: \n",
            "tensor([[[0.5229, 0.9157, 0.4344, 0.6779],\n",
            "         [1.1079, 1.2795, 0.5759, 0.9853],\n",
            "         [0.8630, 1.3937, 0.5615, 0.9071],\n",
            "         [0.9174, 2.2224, 1.0464, 1.7242]],\n",
            "\n",
            "        [[1.3841, 0.7388, 1.2408, 1.0863],\n",
            "         [0.7155, 0.7057, 0.9249, 0.8563],\n",
            "         [1.2220, 0.8343, 1.2222, 1.0115],\n",
            "         [1.3040, 0.8404, 1.1953, 1.0204]],\n",
            "\n",
            "        [[0.9824, 0.5057, 0.5347, 0.4605],\n",
            "         [1.3516, 0.9414, 0.6674, 0.7247],\n",
            "         [2.1070, 1.2264, 1.4220, 0.9821],\n",
            "         [2.1738, 1.0348, 1.9512, 1.2613]]])\n"
          ],
          "name": "stdout"
        }
      ]
    },
    {
      "cell_type": "markdown",
      "metadata": {
        "id": "iFB4wkOhoKbP",
        "colab_type": "text"
      },
      "source": [
        "8. Return the batch matrix­matrix product of a 3D matrix and a 2D matrix\n",
        "(a=torch.rand(3,4,5), b=torch.rand(5,4))."
      ]
    },
    {
      "cell_type": "code",
      "metadata": {
        "id": "HojRphkMnvfl",
        "colab_type": "code",
        "outputId": "99ed705b-e063-4c3c-e1a7-6f97815f8c6f",
        "colab": {
          "base_uri": "https://localhost:8080/",
          "height": 302
        }
      },
      "source": [
        "a=torch.rand(3,4,5)\n",
        "b=torch.rand(5,4)\n",
        "describe(a@b)"
      ],
      "execution_count": 0,
      "outputs": [
        {
          "output_type": "stream",
          "text": [
            "Type: torch.FloatTensor\n",
            "Shape/Size: torch.Size([3, 4, 4])\n",
            "Values: \n",
            "tensor([[[1.2628, 1.3793, 1.1576, 1.3146],\n",
            "         [1.5373, 2.4409, 1.9342, 1.4653],\n",
            "         [1.4306, 1.9148, 1.5586, 1.2936],\n",
            "         [0.8554, 1.0929, 0.6541, 1.1433]],\n",
            "\n",
            "        [[1.0893, 1.3279, 1.2650, 0.7141],\n",
            "         [0.8341, 1.4919, 1.6073, 1.3789],\n",
            "         [1.3449, 2.1005, 1.7131, 1.2840],\n",
            "         [1.0747, 1.3083, 1.1396, 1.1322]],\n",
            "\n",
            "        [[1.3787, 1.7067, 1.3171, 1.3737],\n",
            "         [1.5710, 1.9860, 1.6829, 1.4464],\n",
            "         [1.3955, 1.6990, 1.5919, 1.2175],\n",
            "         [1.7736, 2.4288, 2.0306, 1.6366]]])\n"
          ],
          "name": "stdout"
        }
      ]
    },
    {
      "cell_type": "code",
      "metadata": {
        "id": "aYuXxukjoR8K",
        "colab_type": "code",
        "outputId": "968f4139-af68-4926-f8b6-b2f463ce7206",
        "colab": {
          "base_uri": "https://localhost:8080/",
          "height": 252
        }
      },
      "source": [
        "torch.bmm(a, b.unsqueeze(0).expand(a.size(0), *b.size()))\n"
      ],
      "execution_count": 0,
      "outputs": [
        {
          "output_type": "execute_result",
          "data": {
            "text/plain": [
              "tensor([[[1.2628, 1.3793, 1.1576, 1.3146],\n",
              "         [1.5373, 2.4409, 1.9342, 1.4653],\n",
              "         [1.4306, 1.9148, 1.5586, 1.2936],\n",
              "         [0.8554, 1.0929, 0.6541, 1.1433]],\n",
              "\n",
              "        [[1.0893, 1.3279, 1.2650, 0.7141],\n",
              "         [0.8341, 1.4919, 1.6073, 1.3789],\n",
              "         [1.3449, 2.1005, 1.7131, 1.2840],\n",
              "         [1.0747, 1.3083, 1.1396, 1.1322]],\n",
              "\n",
              "        [[1.3787, 1.7067, 1.3171, 1.3737],\n",
              "         [1.5710, 1.9860, 1.6829, 1.4464],\n",
              "         [1.3955, 1.6990, 1.5919, 1.2175],\n",
              "         [1.7736, 2.4288, 2.0306, 1.6366]]])"
            ]
          },
          "metadata": {
            "tags": []
          },
          "execution_count": 109
        }
      ]
    },
    {
      "cell_type": "code",
      "metadata": {
        "id": "ax5S_r5Ap5w3",
        "colab_type": "code",
        "colab": {}
      },
      "source": [
        ""
      ],
      "execution_count": 0,
      "outputs": []
    }
  ]
}
