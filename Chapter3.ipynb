{
  "nbformat": 4,
  "nbformat_minor": 0,
  "metadata": {
    "colab": {
      "name": "Chapter3.ipynb",
      "provenance": [],
      "collapsed_sections": [
        "ecKnRCjtFc78",
        "WBdNpqOx2H_u",
        "i4x63HPvGJ8m",
        "nwgeVaXN3gV5",
        "bMeT8MrG3zt6",
        "CQio0k6I_q1C"
      ],
      "authorship_tag": "ABX9TyPiqtDIyBNeKGqy8HlSOVLl",
      "include_colab_link": true
    },
    "kernelspec": {
      "name": "python3",
      "display_name": "Python 3"
    }
  },
  "cells": [
    {
      "cell_type": "markdown",
      "metadata": {
        "id": "view-in-github",
        "colab_type": "text"
      },
      "source": [
        "<a href=\"https://colab.research.google.com/github/Shindora/NLP-with-PyTorch/blob/master/Chapter3.ipynb\" target=\"_parent\"><img src=\"https://colab.research.google.com/assets/colab-badge.svg\" alt=\"Open In Colab\"/></a>"
      ]
    },
    {
      "cell_type": "code",
      "metadata": {
        "id": "aV8HjRfbuw61",
        "colab_type": "code",
        "colab": {}
      },
      "source": [
        "import torch\n",
        "import torch.nn as nn\n",
        "\n",
        "class Perceptron(nn.Module):\n",
        "  \"\"\"A perceptron is one linear layer\"\"\"\n",
        "  def __init__(self,input_dim):\n",
        "    \"\"\"\n",
        "    Args:\n",
        "        input_dim(int): size of the input features\n",
        "    \"\"\"\n",
        "    super(Perceptron, self).__init__()\n",
        "    self.fcl = nn.Linear(input_dim, 1)\n",
        "\n",
        "  def forward(self, x_in):\n",
        "    \"\"\"\n",
        "    The forward pass of the perceptron\n",
        "    Args:\n",
        "      x_in(torch.Tensor): an input data tensor\n",
        "          x_in.shape should be (batch, num_features)\n",
        "    Returns:\n",
        "      the resulting tensor. tensor.shape should be (batch,).\n",
        "    \"\"\"\n",
        "    return torch.sigmoid(self,fc1(x_in)).squeeze()\n",
        "    \n",
        "   "
      ],
      "execution_count": 0,
      "outputs": []
    },
    {
      "cell_type": "markdown",
      "metadata": {
        "id": "ecKnRCjtFc78",
        "colab_type": "text"
      },
      "source": [
        "# Activation Functions"
      ]
    },
    {
      "cell_type": "markdown",
      "metadata": {
        "id": "WBdNpqOx2H_u",
        "colab_type": "text"
      },
      "source": [
        "## Sigmoid"
      ]
    },
    {
      "cell_type": "markdown",
      "metadata": {
        "id": "A5xXMnonF8tP",
        "colab_type": "text"
      },
      "source": [
        "One of the earliest used activation functions in neural network history. It takes any real value and squashes it into the range between 0 and 1."
      ]
    },
    {
      "cell_type": "code",
      "metadata": {
        "id": "-6QvUlg4y26K",
        "colab_type": "code",
        "outputId": "15f15fa2-2e98-42d4-9f43-154371e13de9",
        "colab": {
          "base_uri": "https://localhost:8080/",
          "height": 318
        }
      },
      "source": [
        "import torch\n",
        "import matplotlib.pyplot as plt\n",
        "x= torch.range(-5.,5.,0.1)\n",
        "y= torch.sigmoid(x)\n",
        "plt.plot(x.numpy(),y.numpy())\n",
        "plt.show() "
      ],
      "execution_count": 0,
      "outputs": [
        {
          "output_type": "stream",
          "text": [
            "/usr/local/lib/python3.6/dist-packages/ipykernel_launcher.py:3: UserWarning: torch.range is deprecated in favor of torch.arange and will be removed in 0.5. Note that arange generates values in [start; end), not [start; end].\n",
            "  This is separate from the ipykernel package so we can avoid doing imports until\n"
          ],
          "name": "stderr"
        },
        {
          "output_type": "display_data",
          "data": {
            "image/png": "[encoded data removed]",
            "text/plain": [
              "<Figure size 432x288 with 1 Axes>"
            ]
          },
          "metadata": {
            "tags": [],
            "needs_background": "light"
          }
        }
      ]
    },
    {
      "cell_type": "markdown",
      "metadata": {
        "colab_type": "text",
        "id": "i4x63HPvGJ8m"
      },
      "source": [
        "## Tanh"
      ]
    },
    {
      "cell_type": "markdown",
      "metadata": {
        "id": "bhnauHf0GM6B",
        "colab_type": "text"
      },
      "source": [
        "The tanh activation function is a cosmetically different variant of the sigmoid."
      ]
    },
    {
      "cell_type": "code",
      "metadata": {
        "id": "dJvGmPL72LfS",
        "colab_type": "code",
        "outputId": "31e8558f-60f5-40ee-a75f-1a31fbf234a5",
        "colab": {
          "base_uri": "https://localhost:8080/",
          "height": 318
        }
      },
      "source": [
        "import torch\n",
        "import matplotlib.pyplot as plt\n",
        "x= torch.range(-5.,5.,0.1)\n",
        "y= torch.tanh(x)\n",
        "plt.plot(x.numpy(),y.numpy())\n",
        "plt.show() "
      ],
      "execution_count": 0,
      "outputs": [
        {
          "output_type": "stream",
          "text": [
            "/usr/local/lib/python3.6/dist-packages/ipykernel_launcher.py:3: UserWarning: torch.range is deprecated in favor of torch.arange and will be removed in 0.5. Note that arange generates values in [start; end), not [start; end].\n",
            "  This is separate from the ipykernel package so we can avoid doing imports until\n"
          ],
          "name": "stderr"
        },
        {
          "output_type": "display_data",
          "data": {
            "image/png": "[encoded data removed]",
            "text/plain": [
              "<Figure size 432x288 with 1 Axes>"
            ]
          },
          "metadata": {
            "tags": [],
            "needs_background": "light"
          }
        }
      ]
    },
    {
      "cell_type": "markdown",
      "metadata": {
        "id": "nwgeVaXN3gV5",
        "colab_type": "text"
      },
      "source": [
        "## ReLU"
      ]
    },
    {
      "cell_type": "code",
      "metadata": {
        "id": "ceUH6wct3iIT",
        "colab_type": "code",
        "outputId": "90acc791-e6f9-4196-daff-2fbc9f92ac17",
        "colab": {
          "base_uri": "https://localhost:8080/",
          "height": 318
        }
      },
      "source": [
        "import torch\n",
        "import matplotlib.pyplot as plt\n",
        "relu = torch.nn.ReLU()\n",
        "x= torch.range(-5.,5.,0.1)\n",
        "y = relu(x)\n",
        "plt.plot(x.numpy(), y.numpy())\n",
        "plt.show()"
      ],
      "execution_count": 0,
      "outputs": [
        {
          "output_type": "stream",
          "text": [
            "/usr/local/lib/python3.6/dist-packages/ipykernel_launcher.py:4: UserWarning: torch.range is deprecated in favor of torch.arange and will be removed in 0.5. Note that arange generates values in [start; end), not [start; end].\n",
            "  after removing the cwd from sys.path.\n"
          ],
          "name": "stderr"
        },
        {
          "output_type": "display_data",
          "data": {
            "image/png": "[encoded data removed]",
            "text/plain": [
              "<Figure size 432x288 with 1 Axes>"
            ]
          },
          "metadata": {
            "tags": [],
            "needs_background": "light"
          }
        }
      ]
    },
    {
      "cell_type": "markdown",
      "metadata": {
        "id": "bMeT8MrG3zt6",
        "colab_type": "text"
      },
      "source": [
        "## Parametric ReLU (PReLU) activation functions"
      ]
    },
    {
      "cell_type": "code",
      "metadata": {
        "id": "n8h7oz0Y-jxv",
        "colab_type": "code",
        "outputId": "a5c7ae06-aca9-45bd-c298-7270f1975cd8",
        "colab": {
          "base_uri": "https://localhost:8080/",
          "height": 318
        }
      },
      "source": [
        "import torch\n",
        "import matplotlib.pyplot as plt\n",
        "\n",
        "prelu = torch.nn.PReLU(num_parameters=1)\n",
        "x= torch.range(-5.,5.,0.1)\n",
        "y = prelu(x)\n",
        "\n",
        "plt.plot(x.numpy(), y.detach().numpy())\n",
        "plt.show()"
      ],
      "execution_count": 0,
      "outputs": [
        {
          "output_type": "stream",
          "text": [
            "/usr/local/lib/python3.6/dist-packages/ipykernel_launcher.py:5: UserWarning: torch.range is deprecated in favor of torch.arange and will be removed in 0.5. Note that arange generates values in [start; end), not [start; end].\n",
            "  \"\"\"\n"
          ],
          "name": "stderr"
        },
        {
          "output_type": "display_data",
          "data": {
            "image/png": "[encoded data removed]",
            "text/plain": [
              "<Figure size 432x288 with 1 Axes>"
            ]
          },
          "metadata": {
            "tags": [],
            "needs_background": "light"
          }
        }
      ]
    },
    {
      "cell_type": "markdown",
      "metadata": {
        "id": "CQio0k6I_q1C",
        "colab_type": "text"
      },
      "source": [
        "## Softmax"
      ]
    },
    {
      "cell_type": "code",
      "metadata": {
        "id": "Nw2bffSK_rEY",
        "colab_type": "code",
        "outputId": "5983b2c1-27b5-48dc-f909-38226eb5911e",
        "colab": {
          "base_uri": "https://localhost:8080/",
          "height": 67
        }
      },
      "source": [
        "import torch.nn as nn\n",
        "import torch\n",
        "\n",
        "softmax = nn.Softmax(dim=1)\n",
        "x_input = torch.randn(1, 3)\n",
        "y_output = softmax(x_input)\n",
        "print(x_input)\n",
        "print(y_output)\n",
        "print(torch.sum(y_output, dim=1))"
      ],
      "execution_count": 0,
      "outputs": [
        {
          "output_type": "stream",
          "text": [
            "tensor([[ 1.2188, -1.2172, -1.3019]])\n",
            "tensor([[0.8562, 0.0749, 0.0688]])\n",
            "tensor([1.])\n"
          ],
          "name": "stdout"
        }
      ]
    },
    {
      "cell_type": "markdown",
      "metadata": {
        "id": "NUZ1UVr3D_Z4",
        "colab_type": "text"
      },
      "source": [
        "# Loss Functions\n"
      ]
    },
    {
      "cell_type": "markdown",
      "metadata": {
        "id": "l4EIBU8fE0Kz",
        "colab_type": "text"
      },
      "source": [
        "## Mean Squared Error Loss\n",
        "\n"
      ]
    },
    {
      "cell_type": "code",
      "metadata": {
        "id": "Oq5CXcCMECgC",
        "colab_type": "code",
        "outputId": "65a3a971-e089-4ed8-ac30-53286f843181",
        "colab": {
          "base_uri": "https://localhost:8080/",
          "height": 33
        }
      },
      "source": [
        "import torch\n",
        "import torch.nn as nn\n",
        "mse_loss = nn.MSELoss()\n",
        "outputs = torch.randn(3, 5, requires_grad=True)\n",
        "targets = torch.randn(3, 5)\n",
        "loss = mse_loss(outputs, targets)\n",
        "print(loss)\n"
      ],
      "execution_count": 0,
      "outputs": [
        {
          "output_type": "stream",
          "text": [
            "tensor(1.9060, grad_fn=<MseLossBackward>)\n"
          ],
          "name": "stdout"
        }
      ]
    },
    {
      "cell_type": "markdown",
      "metadata": {
        "id": "jXw0k0WmHd9U",
        "colab_type": "text"
      },
      "source": [
        "## Categorical Cross-Entropy Loss"
      ]
    },
    {
      "cell_type": "markdown",
      "metadata": {
        "id": "iVyXcDk4H55J",
        "colab_type": "text"
      },
      "source": [
        "The categorical cross­entropy loss is typically used in a multiclass classification setting in which the\n",
        "outputs are interpreted as predictions of class membership probabilities"
      ]
    },
    {
      "cell_type": "code",
      "metadata": {
        "id": "9imDBgDgHjfb",
        "colab_type": "code",
        "outputId": "9a7258ec-c588-472f-8b19-3752827117be",
        "colab": {
          "base_uri": "https://localhost:8080/",
          "height": 33
        }
      },
      "source": [
        "import torch\n",
        "import torch.nn as nn\n",
        "ce_loss = nn.CrossEntropyLoss()\n",
        "outputs = torch.randn(3, 5, requires_grad=True)\n",
        "targets = torch.tensor([1, 0, 3], dtype=torch.int64)\n",
        "loss = ce_loss(outputs, targets)\n",
        "print(loss)\n"
      ],
      "execution_count": 0,
      "outputs": [
        {
          "output_type": "stream",
          "text": [
            "tensor(2.0834, grad_fn=<NllLossBackward>)\n"
          ],
          "name": "stdout"
        }
      ]
    },
    {
      "cell_type": "markdown",
      "metadata": {
        "id": "czgnAIL4IBse",
        "colab_type": "text"
      },
      "source": [
        "Binary Cross-Entropy Loss\n",
        "## Binary Cross-Entropy Loss\n"
      ]
    },
    {
      "cell_type": "code",
      "metadata": {
        "id": "qS3G-_Qsjv6o",
        "colab_type": "code",
        "colab": {}
      },
      "source": [
        "bce_loss = nn.BCELoss()\n",
        "sigmoid = nn.Sigmoid()\n",
        "probabilities = sigmoid(torch.randn(4, 1, requires_grad=True))\n",
        "targets = torch.tensor([1, 0, 1, 0], dtype=torch.float32).view(4, 1)\n",
        "loss = bce_loss(probabilities, targets)\n",
        "print(probabilities)\n",
        "print(loss)\n"
      ],
      "execution_count": 0,
      "outputs": []
    },
    {
      "cell_type": "markdown",
      "metadata": {
        "id": "AjUDw5-7kHBG",
        "colab_type": "text"
      },
      "source": [
        "# Diving Deep into Supervised Training\n"
      ]
    },
    {
      "cell_type": "markdown",
      "metadata": {
        "id": "nru2pwPeyyHG",
        "colab_type": "text"
      },
      "source": [
        "Constructing Toy Data"
      ]
    },
    {
      "cell_type": "markdown",
      "metadata": {
        "id": "eAgZpuwSy1te",
        "colab_type": "text"
      },
      "source": [
        "Choosing a Model"
      ]
    },
    {
      "cell_type": "markdown",
      "metadata": {
        "id": "Jsflh_X8y-dk",
        "colab_type": "text"
      },
      "source": [
        "Converting The Probabilities To Discrete Classes"
      ]
    },
    {
      "cell_type": "markdown",
      "metadata": {
        "id": "BU3e1W2SzQiW",
        "colab_type": "text"
      },
      "source": [
        "Choosing a Loss Function"
      ]
    },
    {
      "cell_type": "markdown",
      "metadata": {
        "id": "wo5QUpOczfgo",
        "colab_type": "text"
      },
      "source": [
        "Choosing an Optimized"
      ]
    },
    {
      "cell_type": "code",
      "metadata": {
        "id": "QWASgBkpkiA3",
        "colab_type": "code",
        "colab": {}
      },
      "source": [
        "\"\"\"Adam optimizer\"\"\"\n",
        "import torch.nn as nn\n",
        "import torch.optim as optim\n",
        "input_dim = 2\n",
        "lr = 0.001\n",
        "perceptron = Perceptron(input_dim=input_dim)\n",
        "bce_loss = nn.BCELoss()\n",
        "optimizer = optim.Adam(params=perceptron.parameters(), lr=lr)\n"
      ],
      "execution_count": 0,
      "outputs": []
    },
    {
      "cell_type": "markdown",
      "metadata": {
        "id": "8yzgJZ9v0KEP",
        "colab_type": "text"
      },
      "source": [
        "Putting It Together: Gradient-Based Supervised Learning"
      ]
    },
    {
      "cell_type": "code",
      "metadata": {
        "id": "uVVDR4Mo0Ptb",
        "colab_type": "code",
        "colab": {}
      },
      "source": [
        "\"\"\"A supervised training loop for a perceptron and binary classification \"\"\"\n",
        "# each epoch is a complete pass over the training data\n",
        "for epoch_i in range(n_epochs):\n",
        "# the inner loop is over the batches in the dataset\n",
        "for batch_i in range(n_batches):\n",
        "# Step 0: Get the data\n",
        "x_data, y_target = get_toy_data(batch_size)\n",
        "# Step 1: Clear the gradients\n",
        "perceptron.zero_grad()\n",
        "# Step 2: Compute the forward pass of the model\n",
        "y_pred = perceptron(x_data, apply_sigmoid=True)\n",
        "# Step 3: Compute the loss value that we wish to optimize\n",
        "loss = bce_loss(y_pred, y_target)\n",
        "# Step 4: Propagate the loss signal backward\n",
        "loss.backward()\n",
        "# Step 5: Trigger the optimizer to perform one update\n",
        "optimizer.step()"
      ],
      "execution_count": 0,
      "outputs": []
    }
  ]
}